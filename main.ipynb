{
 "cells": [
  {
   "cell_type": "markdown",
   "source": [
    "# Tree Reconstruction from Video\n",
    "\n",
    "To install before first use:\n",
    " 1) Download and place the Agisoft Metashape 2.02 WHS file from https://www.agisoft.com/downloads/installer/ into the `bin` folder.\n",
    " 2) Download and place the latest release of IRSS Media Tools from https://github.com/lukasdragon/MediaTools/releases into the `exec` folder.\n",
    " 3) run the following command in the terminal: ```python setup.py```\n"
   ],
   "metadata": {
    "collapsed": false
   }
  },
  {
   "cell_type": "code",
   "execution_count": 1,
   "outputs": [],
   "source": [
    "import shutil\n",
    "from pathlib import Path\n",
    "\n",
    "import IRSSMediaTools\n",
    "from helpers import get_all_files\n",
    "import Metashape"
   ],
   "metadata": {
    "collapsed": false,
    "ExecuteTime": {
     "end_time": "2023-07-07T22:23:23.657943800Z",
     "start_time": "2023-07-07T22:23:19.489315600Z"
    }
   }
  },
  {
   "cell_type": "code",
   "execution_count": 2,
   "metadata": {
    "ExecuteTime": {
     "end_time": "2023-07-07T22:23:24.625942500Z",
     "start_time": "2023-07-07T22:23:24.607941400Z"
    }
   },
   "outputs": [],
   "source": [
    "DATA_PATH = Path(\"data\")\n",
    "VIDEO_PATH = DATA_PATH / \"video\"\n",
    "TEMP_PATH = Path(\"tmp\")"
   ]
  },
  {
   "cell_type": "code",
   "execution_count": 3,
   "metadata": {
    "ExecuteTime": {
     "end_time": "2023-07-07T22:23:25.862050700Z",
     "start_time": "2023-07-07T22:23:25.824052300Z"
    }
   },
   "outputs": [],
   "source": [
    "if TEMP_PATH.exists():\n",
    "    shutil.rmtree(TEMP_PATH)"
   ]
  },
  {
   "cell_type": "code",
   "execution_count": 4,
   "metadata": {
    "ExecuteTime": {
     "end_time": "2023-07-07T22:23:26.937841900Z",
     "start_time": "2023-07-07T22:23:26.912846700Z"
    }
   },
   "outputs": [
    {
     "name": "stdout",
     "output_type": "stream",
     "text": [
      "data\\video\\DJI_0152.mp4\n"
     ]
    }
   ],
   "source": [
    "video_files = get_all_files(VIDEO_PATH, \"*\")\n",
    "\n",
    "for file in video_files:\n",
    "    print(file)"
   ]
  },
  {
   "cell_type": "code",
   "execution_count": 5,
   "metadata": {
    "ExecuteTime": {
     "end_time": "2023-07-07T22:24:50.200090800Z",
     "start_time": "2023-07-07T22:23:30.786170500Z"
    }
   },
   "outputs": [
    {
     "name": "stdout",
     "output_type": "stream",
     "text": [
      "Extracting frames from video at path: data\\video\\DJI_0152.mp4\n",
      "E:/lukas_olson_msc/Dataspell/Reconstruction/data/video/DJI_0152.mp4\n",
      "\n",
      "# of frames: 12654, Frame Size: {Width=1920, Height=1080}, is Variable FR: \n",
      "\n",
      "False, Avg. FR: 59.94005994005994\n",
      "\n",
      "Rotation: 0, is Interlaced: False, Pixel Format yuv420p, Duration: \n",
      "\n",
      "00:03:31.1109000, Codec: hevc\n",
      "\n",
      "Metadata: creation_time: 2021-05-20T13:04:28.000000Z; language: und; handler_name: VideoHandler; vendor_id: [0][0][0][0]; Extracting 3164 frames from \n",
      "\n",
      "E:\\lukas_olson_msc\\Dataspell\\Reconstruction\\data\\video\\DJI_0152.mp4 to \n",
      "\n",
      "E:\\lukas_olson_msc\\Dataspell\\Reconstruction\\tmp\\frames.\n",
      "\n",
      "\u001B[38;5;2mExtracting Frames\u001B[0m: 0%\n",
      "\n",
      "\u001B[38;5;2mExtracting Frames\u001B[0m: 25%\n",
      "\n",
      "\u001B[38;5;2mExtracting Frames\u001B[0m: 50%\n",
      "\n",
      "\u001B[38;5;2mExtracting Frames\u001B[0m: 75%\n",
      "\n",
      "\u001B[38;5;2mExtracting Frames\u001B[0m: 95%\n",
      "\n",
      "\u001B[38;5;2mExtracting Frames\u001B[0m: 96%\n",
      "\n",
      "\u001B[38;5;2mExtracting Frames\u001B[0m: 97%\n",
      "\n",
      "\u001B[38;5;2mExtracting Frames\u001B[0m: 99%\n",
      "\n",
      "Finished extracting 3164 frames in 79.22 seconds.\n",
      "\n"
     ]
    }
   ],
   "source": [
    "for video_file in video_files:\n",
    "    IRSSMediaTools.extract_frames(video_file, TEMP_PATH / \"frames\", 0.75)"
   ]
  },
  {
   "cell_type": "code",
   "execution_count": 6,
   "outputs": [],
   "source": [
    "# Create Metashape project\n",
    "doc = Metashape.Document()\n",
    "\n",
    "# Create new chunk\n",
    "chunk = doc.addChunk()\n",
    "\n",
    "for video_file in video_files:\n",
    "    # Get all frame paths for current video file\n",
    "    frame_paths = get_all_files(TEMP_PATH / \"frames\", \"*\")\n",
    "\n",
    "    # Add frames to chunk\n",
    "    chunk.addPhotos([str(path) for path in frame_paths])"
   ],
   "metadata": {
    "collapsed": false,
    "ExecuteTime": {
     "end_time": "2023-07-07T22:25:35.070704900Z",
     "start_time": "2023-07-07T22:25:34.375546700Z"
    }
   }
  },
  {
   "cell_type": "code",
   "execution_count": null,
   "outputs": [],
   "source": [
    "# Matching photos\n",
    "chunk.matchPhotos(downscale=1, generic_preselection=True, reference_preselection=False)\n",
    "chunk.alignCameras()"
   ],
   "metadata": {
    "collapsed": false,
    "is_executing": true,
    "ExecuteTime": {
     "start_time": "2023-07-07T22:28:24.339741700Z"
    }
   }
  },
  {
   "cell_type": "code",
   "execution_count": 0,
   "outputs": [],
   "source": [
    "doc.save(path=str(DATA_PATH / \"metashape_project.psx\"))"
   ],
   "metadata": {
    "collapsed": false
   }
  },
  {
   "cell_type": "code",
   "execution_count": 12,
   "outputs": [
    {
     "ename": "RuntimeError",
     "evalue": "Empty file list",
     "output_type": "error",
     "traceback": [
      "\u001B[1;31m---------------------------------------------------------------------------\u001B[0m",
      "\u001B[1;31mRuntimeError\u001B[0m                              Traceback (most recent call last)",
      "Cell \u001B[1;32mIn[12], line 12\u001B[0m\n\u001B[0;32m      9\u001B[0m chunk \u001B[38;5;241m=\u001B[39m doc\u001B[38;5;241m.\u001B[39maddChunk()\n\u001B[0;32m     11\u001B[0m \u001B[38;5;66;03m# Add frames to chunk\u001B[39;00m\n\u001B[1;32m---> 12\u001B[0m \u001B[43mchunk\u001B[49m\u001B[38;5;241;43m.\u001B[39;49m\u001B[43maddPhotos\u001B[49m\u001B[43m(\u001B[49m\u001B[43m[\u001B[49m\u001B[38;5;28;43mstr\u001B[39;49m\u001B[43m(\u001B[49m\u001B[43mpath\u001B[49m\u001B[43m)\u001B[49m\u001B[43m \u001B[49m\u001B[38;5;28;43;01mfor\u001B[39;49;00m\u001B[43m \u001B[49m\u001B[43mpath\u001B[49m\u001B[43m \u001B[49m\u001B[38;5;129;43;01min\u001B[39;49;00m\u001B[43m \u001B[49m\u001B[43mframe_paths\u001B[49m\u001B[43m]\u001B[49m\u001B[43m)\u001B[49m\n\u001B[0;32m     14\u001B[0m \u001B[38;5;66;03m# Matching photos\u001B[39;00m\n\u001B[0;32m     15\u001B[0m chunk\u001B[38;5;241m.\u001B[39mmatchPhotos(accuracy\u001B[38;5;241m=\u001B[39mMetashape\u001B[38;5;241m.\u001B[39mHighAccuracy, generic_preselection\u001B[38;5;241m=\u001B[39m\u001B[38;5;28;01mTrue\u001B[39;00m,\n\u001B[0;32m     16\u001B[0m                   reference_preselection\u001B[38;5;241m=\u001B[39m\u001B[38;5;28;01mFalse\u001B[39;00m)\n",
      "\u001B[1;31mRuntimeError\u001B[0m: Empty file list"
     ]
    }
   ],
   "source": [
    "\n",
    "# Build dense cloud\n",
    "chunk.buildDepthMaps(quality=Metashape.HighQuality)\n",
    "chunk.buildDenseCloud()\n",
    "\n",
    "# Build model\n",
    "chunk.buildModel(surface=Metashape.Arbitrary, interpolation=Metashape.EnabledInterpolation)\n",
    "\n",
    "# Build texture\n",
    "chunk.buildTexture(blending=Metashape.MosaicBlending, size=4096)\n",
    "\n",
    "# Save the project"
   ],
   "metadata": {
    "collapsed": false,
    "ExecuteTime": {
     "end_time": "2023-07-07T22:18:05.897806Z",
     "start_time": "2023-07-07T22:18:05.839750200Z"
    }
   }
  },
  {
   "cell_type": "code",
   "execution_count": null,
   "outputs": [],
   "source": [
    "# Export the dense point cloud\n",
    "output_path = DATA_PATH / \"output\"\n",
    "output_path.mkdir(parents=True, exist_ok=True)\n",
    "\n",
    "for i, chunk in enumerate(doc.chunks):\n",
    "    dense_cloud_path = output_path / f\"dense_cloud_{i}.ply\"  # adjust the extension based on the format you want\n",
    "    chunk.exportPoints(str(dense_cloud_path), source_data=Metashape.DenseCloudData)"
   ],
   "metadata": {
    "collapsed": false
   }
  }
 ],
 "metadata": {
  "kernelspec": {
   "display_name": "Python 3 (ipykernel)",
   "language": "python",
   "name": "python3"
  },
  "language_info": {
   "codemirror_mode": {
    "name": "ipython",
    "version": 3
   },
   "file_extension": ".py",
   "mimetype": "text/x-python",
   "name": "python",
   "nbconvert_exporter": "python",
   "pygments_lexer": "ipython3",
   "version": "3.10.12"
  }
 },
 "nbformat": 4,
 "nbformat_minor": 1
}
